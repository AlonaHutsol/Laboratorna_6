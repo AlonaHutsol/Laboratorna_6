{
  "nbformat": 4,
  "nbformat_minor": 0,
  "metadata": {
    "colab": {
      "provenance": [],
      "authorship_tag": "ABX9TyNvpiDweRbA7nJWSS027vXA",
      "include_colab_link": true
    },
    "kernelspec": {
      "name": "python3",
      "display_name": "Python 3"
    },
    "language_info": {
      "name": "python"
    }
  },
  "cells": [
    {
      "cell_type": "markdown",
      "metadata": {
        "id": "view-in-github",
        "colab_type": "text"
      },
      "source": [
        "<a href=\"https://colab.research.google.com/github/AlonaHutsol/Laboratorna_6/blob/main/%D0%9B%D0%B0%D0%B1%D0%BE%D1%80%D0%B0%D1%82%D0%BE%D1%80%D0%BD%D0%B0_6.ipynb\" target=\"_parent\"><img src=\"https://colab.research.google.com/assets/colab-badge.svg\" alt=\"Open In Colab\"/></a>"
      ]
    },
    {
      "cell_type": "markdown",
      "source": [
        "##Лабораторна 6\n"
      ],
      "metadata": {
        "id": "iOhOGgriDazB"
      }
    },
    {
      "cell_type": "markdown",
      "source": [
        "Структура містить такі поля: ПІП студента, курс, номер групи, місце\n",
        "проживання. Вивести на екран всіх тих студентів, які проживають у\n",
        "гуртожитку.Завдання реалізуйте дві версії:\n",
        "• через словник (dict),\n",
        "• через клас (class)."
      ],
      "metadata": {
        "id": "WhWNut-wDmnd"
      }
    },
    {
      "cell_type": "code",
      "source": [
        "class Student:\n",
        "    def __init__(self, name, course, group, residence):\n",
        "        self.name = name\n",
        "        self.course = course\n",
        "        self.group = group\n",
        "        self.residence = residence\n",
        "\n",
        "n = int(input(\"Кількість студентів: \"))\n",
        "students = []\n",
        "\n",
        "for i in range(n):\n",
        "    name = input(\"ПІП студента: \")\n",
        "    course = int(input(\"Курс: \"))\n",
        "    group = input(\"Номер групи: \")\n",
        "    residence = input(\"Місце проживання: \")\n",
        "    student = Student(name, course, group, residence)\n",
        "    students.append(student)\n",
        "\n",
        "print(\"\\nСтуденти, які проживають у гуртожитку:\")\n",
        "for student in students:\n",
        "    if student.residence.lower() == \"гуртожиток\":\n",
        "        print(f\"{student.name}, курс {student.course}, група {student.group}\")"
      ],
      "metadata": {
        "colab": {
          "base_uri": "https://localhost:8080/"
        },
        "id": "jzLEiOc9CiXj",
        "outputId": "dfefcef7-395a-46a6-91fe-bde8253c8c6e"
      },
      "execution_count": 4,
      "outputs": [
        {
          "output_type": "stream",
          "name": "stdout",
          "text": [
            "Кількість студентів: 3\n",
            "ПІП студента: Яцюк Вікторія Сергіївна\n",
            "Курс: 1\n",
            "Номер групи: 1М\n",
            "Місце проживання: гуртожиток\n",
            "ПІП студента: Головата Валерія Олександрівна\n",
            "Курс: 1\n",
            "Номер групи: 1М\n",
            "Місце проживання: гуртожиток\n",
            "ПІП студента: Слободянюк Вікторя Вікторівна\n",
            "Курс: 1\n",
            "Номер групи: 1СОМ\n",
            "Місце проживання: гуртожиток\n",
            "\n",
            "Студенти, які проживають у гуртожитку:\n",
            "Яцюк Вікторія Сергіївна, курс 1, група 1М\n",
            "Головата Валерія Олександрівна, курс 1, група 1М\n",
            "Слободянюк Вікторя Вікторівна, курс 1, група 1СОМ\n"
          ]
        }
      ]
    },
    {
      "cell_type": "code",
      "execution_count": 2,
      "metadata": {
        "colab": {
          "base_uri": "https://localhost:8080/"
        },
        "id": "VhyYlO8kAsfr",
        "outputId": "7fb35fa4-4d5e-4a1e-f7a0-bcada3bd9e19"
      },
      "outputs": [
        {
          "output_type": "stream",
          "name": "stdout",
          "text": [
            "Кількість студентів: 3\n",
            "ПІП студента: Гуцол Альона Василівна\n",
            "Курс: 1\n",
            "Номер групи: 1М\n",
            "Місце проживання: гуртожиток\n",
            "ПІП студента: Харкувич Руслан Сергійович\n",
            "Курс: 1\n",
            "Номер групи: 1СОМ\n",
            "Місце проживання: гуртожиток\n",
            "ПІП студента: Миколаєнко Дмитро Олександрович\n",
            "Курс: 1\n",
            "Номер групи: 1М\n",
            "Місце проживання: Вишенька\n",
            "\n",
            "Студенти, які проживають у гуртожитку:\n",
            "Гуцол Альона Василівна, курс 1, група 1М\n",
            "Харкувич Руслан Сергійович, курс 1, група 1СОМ\n"
          ]
        }
      ],
      "source": [
        "n = int(input(\"Кількість студентів: \"))\n",
        "students = []\n",
        "\n",
        "for i in range(n):\n",
        "    student = {\n",
        "        \"name\": input(\"ПІП студента: \"),\n",
        "        \"course\": int(input(\"Курс: \")),\n",
        "        \"group\": input(\"Номер групи: \"),\n",
        "        \"residence\": input(\"Місце проживання: \")\n",
        "    }\n",
        "    students.append(student)\n",
        "\n",
        "print(\"\\nСтуденти, які проживають у гуртожитку:\")\n",
        "for student in students:\n",
        "    if student[\"residence\"].lower() == \"гуртожиток\":\n",
        "        print(f\"{student['name']}, курс {student['course']}, група {student['group']}\")"
      ]
    }
  ]
}